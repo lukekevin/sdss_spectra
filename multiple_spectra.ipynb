{
 "cells": [
  {
   "cell_type": "code",
   "execution_count": 2,
   "id": "26e4ca94-8e32-4148-8e4f-a240d70691a3",
   "metadata": {},
   "outputs": [],
   "source": [
    "import numpy as np\n",
    "import matplotlib.pyplot as plt\n",
    "from astropy.io import fits\n",
    "from astropy import units as u\n",
    "from specutils import Spectrum1D\n",
    "import glob"
   ]
  },
  {
   "cell_type": "code",
   "execution_count": null,
   "id": "3daae69b-de15-44f4-9333-36007b29e9b1",
   "metadata": {},
   "outputs": [],
   "source": []
  },
  {
   "cell_type": "code",
   "execution_count": 5,
   "id": "a5bb2870-5013-41f6-8777-b000053060f3",
   "metadata": {},
   "outputs": [],
   "source": [
    "#Glob all the spectra files\n",
    "spectra_dir=\"/home/kevin/aufklarung_astro_station/sdss_spectra/\"\n",
    "spectra_paths=glob.glob(spectra_dir+\"*.fits\")"
   ]
  },
  {
   "cell_type": "code",
   "execution_count": 15,
   "id": "3b903298-1b21-4851-883e-6dc92bd62e54",
   "metadata": {},
   "outputs": [],
   "source": [
    "#Open all the spectra files and store them in a list\n",
    "spectra_list=[]\n",
    "for spec_files in spectra_paths:\n",
    "    with fits.open(spec_files) as f:\n",
    "        spec=f[1].data\n",
    "        header=f[0].header\n",
    "    spectra_list.append(spec)\n",
    "\n"
   ]
  },
  {
   "cell_type": "code",
   "execution_count": 35,
   "id": "c304cc52-0c82-480b-b0a0-edde71d33de3",
   "metadata": {},
   "outputs": [
    {
     "name": "stdout",
     "output_type": "stream",
     "text": [
      "(3822,)\n",
      "(3822,)\n",
      "(3828,)\n",
      "(3846,)\n",
      "(3769,)\n"
     ]
    }
   ],
   "source": [
    "#Get the shapes of each spectra then find the smallest shape along 0 axis\n",
    "spec_shape_list=[]\n",
    "for i in spectra_list:\n",
    "    print(i.shape)\n",
    "    spec_shape_list.append(i.shape)\n",
    "\n",
    "spec_shape_list=np.array(spec_shape_list)\n",
    "smallest_spec=np.min(spec_shape_list)"
   ]
  },
  {
   "cell_type": "code",
   "execution_count": 39,
   "id": "e9026418-78da-4711-bff6-2db3bd0f14f9",
   "metadata": {},
   "outputs": [
    {
     "name": "stdout",
     "output_type": "stream",
     "text": [
      "(3769,)\n",
      "(3769,)\n",
      "(3769,)\n",
      "(3769,)\n",
      "(3769,)\n"
     ]
    }
   ],
   "source": [
    "#Reshape all the spectra so they are of the shape of the original spectra of lowest shape\n",
    "spectra_list_resized=[]\n",
    "for j in spectra_list:\n",
    "    j=j[:smallest_spec]\n",
    "    print(j.shape)\n",
    "    spectra_list_resized.append(j)"
   ]
  },
  {
   "cell_type": "code",
   "execution_count": null,
   "id": "456d0d2d-0aad-4c14-bf07-05cc71978792",
   "metadata": {},
   "outputs": [],
   "source": []
  },
  {
   "cell_type": "code",
   "execution_count": 44,
   "id": "777200b5-fa4b-428a-9cef-c42bf0b53858",
   "metadata": {},
   "outputs": [],
   "source": [
    "spectra_list_resized=np.array(spectra_list_resized)\n",
    "spectra_list_resized=spectra_list_resized.reshape(spectra_list_resized.shape[1],\n",
    "                                                 spectra_list_resized.shape[0])"
   ]
  },
  {
   "cell_type": "code",
   "execution_count": 48,
   "id": "c3332484-3895-4fe2-8078-4b4fbce23ae5",
   "metadata": {},
   "outputs": [
    {
     "data": {
      "text/plain": [
       "array([[( 1.27920818e+01, 3.5817, 0.10687421, 0,       0, 1.2967558 , 13.418482 , 12.464617  ),\n",
       "        ( 7.44927549e+00, 3.5818, 0.11202636, 0,       0, 1.2965097 , 13.370382 , 13.004056  ),\n",
       "        ( 9.73167229e+00, 3.5819, 0.1062034 , 0,       0, 1.2962604 , 12.977432 , 12.24745   ),\n",
       "        ...,\n",
       "        ( 1.48286505e+01, 3.9583, 0.95507324, 0,       0, 0.7769971 ,  1.873131 , 12.828309  ),\n",
       "        ( 1.47561693e+01, 3.9584, 0.955643  , 0,       0, 0.77744174,  3.0043972, 12.893665  ),\n",
       "        ( 1.56789837e+01, 3.9585, 0.9004053 , 0,       0, 0.7778833 ,  2.6854935, 13.028144  )],\n",
       "       [( 1.27920818e+01, 3.5817, 0.10687421, 0,       0, 1.2967558 , 13.418482 , 12.464617  ),\n",
       "        ( 7.44927549e+00, 3.5818, 0.11202636, 0,       0, 1.2965097 , 13.370382 , 13.004056  ),\n",
       "        ( 9.73167229e+00, 3.5819, 0.1062034 , 0,       0, 1.2962604 , 12.977432 , 12.24745   ),\n",
       "        ...,\n",
       "        ( 1.48286505e+01, 3.9583, 0.95507324, 0,       0, 0.7769971 ,  1.873131 , 12.828309  ),\n",
       "        ( 1.47561693e+01, 3.9584, 0.955643  , 0,       0, 0.77744174,  3.0043972, 12.893665  ),\n",
       "        ( 1.56789837e+01, 3.9585, 0.9004053 , 0,       0, 0.7778833 ,  2.6854935, 13.028144  )],\n",
       "       [( 1.79463367e+01, 3.5808, 0.17681707, 0,       0, 1.2367775 ,  7.662382 , 11.554129  ),\n",
       "        ( 1.29884615e+01, 3.5809, 0.17738418, 0,       0, 1.2365623 ,  8.040747 , 11.270025  ),\n",
       "        ( 1.19830494e+01, 3.581 , 0.17749892, 0,       0, 1.2359021 ,  8.352237 , 11.044787  ),\n",
       "        ...,\n",
       "        ( 3.18653488e+00, 3.9574, 2.2646058 , 0,       0, 0.73529136,  6.150193 ,  3.818711  ),\n",
       "        ( 3.64362168e+00, 3.9575, 2.1656027 , 0,       0, 0.7352087 ,  7.1200686,  3.7876608 ),\n",
       "        ( 3.56812525e+00, 3.9576, 1.9430351 , 0,       0, 0.7351711 ,  7.2402987,  3.7581086 )],\n",
       "       [( 4.85128860e+01, 3.58  , 0.10338318, 0,       0, 1.0897038 , 14.001687 , 44.65536   ),\n",
       "        ( 5.45160866e+01, 3.5801, 0.09774717, 0,       0, 1.0894063 , 14.113332 , 42.890476  ),\n",
       "        ( 5.23934174e+01, 3.5802, 0.09884462, 0,       0, 1.0891068 , 14.142163 , 47.81272   ),\n",
       "        ...,\n",
       "        ( 7.32665939e+01, 3.9566, 0.27900025, 0,       0, 0.64358586, 13.617703 , 74.110245  ),\n",
       "        ( 7.47588730e+01, 3.9567, 0.20390554, 0,       0, 0.64355206, 45.679222 , 74.1754    ),\n",
       "        ( 7.13402557e+01, 3.9568, 0.18950376, 0,       0, 0.6435164 , 50.660233 , 77.08073   )],\n",
       "       [( 1.46025106e-01, 3.5813, 1.0073153 , 0, 1048576, 1.2296076 ,  3.824344 , -0.13038391),\n",
       "        (-3.34030241e-02, 3.5814, 1.0715293 , 0, 1048576, 1.2295995 ,  3.7909982, -0.13306199),\n",
       "        ( 1.26851392e+00, 3.5815, 1.0382334 , 0, 1048576, 1.2289425 ,  3.7996879, -0.15589918),\n",
       "        ...,\n",
       "        ( 1.48550534e+00, 3.9579, 0.87827617, 0, 1179648, 0.7325019 ,  4.1108427,  5.3697996 ),\n",
       "        ( 3.80157089e+00, 3.958 , 0.9777873 , 0, 1179648, 0.7324124 ,  3.6007257,  5.365601  ),\n",
       "        ( 1.66745126e+00, 3.9581, 0.9453866 , 0, 1179648, 0.732323  ,  3.5799801,  5.352078  )]],\n",
       "      dtype=[('flux', '<f4'), ('loglam', '<f4'), ('ivar', '<f4'), ('and_mask', '<i4'), ('or_mask', '<i4'), ('wdisp', '<f4'), ('sky', '<f4'), ('model', '<f4')])"
      ]
     },
     "execution_count": 48,
     "metadata": {},
     "output_type": "execute_result"
    }
   ],
   "source": [
    "spectra_list_resized"
   ]
  },
  {
   "cell_type": "code",
   "execution_count": null,
   "id": "bc881827-82d9-4391-8a05-7f9a55ae1e2d",
   "metadata": {},
   "outputs": [],
   "source": []
  },
  {
   "cell_type": "code",
   "execution_count": 191,
   "id": "e1d806d6-89e5-4373-acf1-b8c5892f3582",
   "metadata": {},
   "outputs": [
    {
     "data": {
      "text/plain": [
       "Text(0.5, 0, 'Freq')"
      ]
     },
     "execution_count": 191,
     "metadata": {},
     "output_type": "execute_result"
    },
    {
     "data": {
      "image/png": "[encoded data removed]",
      "text/plain": [
       "<Figure size 700x400 with 5 Axes>"
      ]
     },
     "metadata": {},
     "output_type": "display_data"
    }
   ],
   "source": [
    "#spectra_list_resized[0]['flux'][:,None] this adds another axis to the individualspectra to make it two dimensional\n",
    "fig,ax=plt.subplots(nrows=5, ncols=1, figsize=(7,4))\n",
    "ax[0].pcolormesh(spectra_list_resized[0]['flux'][:,None].T, cmap='CMRmap')\n",
    "ax[1].pcolormesh(spectra_list_resized[1]['flux'][:,None].T, cmap='CMRmap')\n",
    "ax[2].pcolormesh(spectra_list_resized[2]['flux'][:,None].T, cmap='CMRmap')\n",
    "ax[3].pcolormesh(spectra_list_resized[3]['flux'][:,None].T, cmap='CMRmap')\n",
    "ax[4].pcolormesh(spectra_list_resized[4]['flux'][:,None].T, cmap='CMRmap')\n",
    "ax[4].set_xlabel(\"Freq\")\n"
   ]
  },
  {
   "cell_type": "code",
   "execution_count": null,
   "id": "b5955b83-ccd0-4656-8781-5c17688b8d39",
   "metadata": {},
   "outputs": [],
   "source": []
  },
  {
   "cell_type": "code",
   "execution_count": null,
   "id": "59344a0e-b608-4435-aa0f-274118c2ef0f",
   "metadata": {},
   "outputs": [],
   "source": []
  },
  {
   "cell_type": "code",
   "execution_count": 189,
   "id": "bb8e6f88-6391-46fc-87ab-6a3817e8c65a",
   "metadata": {},
   "outputs": [
    {
     "data": {
      "text/plain": [
       "Text(0.5, 0, 'Freq')"
      ]
     },
     "execution_count": 189,
     "metadata": {},
     "output_type": "execute_result"
    },
    {
     "data": {
      "image/png": "[encoded data removed]",
      "text/plain": [
       "<Figure size 1000x100 with 1 Axes>"
      ]
     },
     "metadata": {},
     "output_type": "display_data"
    }
   ],
   "source": [
    "#Special magic to make 2d spectra plots according to the wavelenghts\n",
    "\n",
    "from matplotlib.colors import Normalize, LinearSegmentedColormap\n",
    "one_spectra=spectra_list_resized[2]['flux'][:,None]\n",
    "\n",
    "freq_vs_time=np.linspace(0,one_spectra.shape[0], one_spectra.shape[0])[:,None]\n",
    "freq_cmap = LinearSegmentedColormap.from_list('freq_cmap', ['red', 'blue'], N=one_spectra.shape[0])\n",
    "\n",
    "norm_intensity = Normalize(vmin=one_spectra.min(), vmax=one_spectra.max())\n",
    "\n",
    "\n",
    "fig, ax = plt.subplots(figsize=(10,1))\n",
    "\n",
    "# Plot the frequency values with the frequency-based colormap\n",
    "# Use pcolormesh to create the base layer\n",
    "p = ax.pcolormesh(freq_vs_time.T, cmap=freq_cmap, shading='auto', alpha=0.7)\n",
    "\n",
    "# Overlay the intensity values\n",
    "# Use a different colormap for intensity\n",
    "im = ax.pcolormesh(one_spectra.T, alpha=0.5, norm=norm_intensity)\n",
    "ax.set_xlabel(\"Freq\")\n",
    "\n"
   ]
  },
  {
   "cell_type": "code",
   "execution_count": null,
   "id": "db5453ad-4f32-47d5-a0df-b7ad2f4b1a08",
   "metadata": {},
   "outputs": [],
   "source": []
  }
 ],
 "metadata": {
  "kernelspec": {
   "display_name": "Python 3 (ipykernel)",
   "language": "python",
   "name": "python3"
  },
  "language_info": {
   "codemirror_mode": {
    "name": "ipython",
    "version": 3
   },
   "file_extension": ".py",
   "mimetype": "text/x-python",
   "name": "python",
   "nbconvert_exporter": "python",
   "pygments_lexer": "ipython3",
   "version": "3.12.3"
  }
 },
 "nbformat": 4,
 "nbformat_minor": 5
}
