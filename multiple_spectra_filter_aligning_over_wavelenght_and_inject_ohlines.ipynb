{
 "cells": [
  {
   "cell_type": "code",
   "execution_count": 27,
   "id": "21fcb740-dbb3-4561-95b7-711adf604ccb",
   "metadata": {},
   "outputs": [],
   "source": [
    "import numpy as np\n",
    "import matplotlib.pyplot as plt\n",
    "from astropy.io import fits\n",
    "from astropy import units as u\n",
    "from specutils import Spectrum1D\n",
    "import glob\n",
    "from matplotlib.colors import Normalize, LinearSegmentedColormap\n"
   ]
  },
  {
   "cell_type": "code",
   "execution_count": 55,
   "id": "25e8c192-0868-4d92-8c16-feb3d696a1f4",
   "metadata": {},
   "outputs": [],
   "source": [
    "#Glob all the spectra files\n",
    "spectra_dir=\"/home/kevin/aufklarung_astro_station/sdss_spectra/\"\n",
    "spectra_paths=glob.glob(spectra_dir+\"*.fits\")"
   ]
  },
  {
   "cell_type": "code",
   "execution_count": 56,
   "id": "3ab21f69-ce5b-4254-9d6d-740a01cd0504",
   "metadata": {},
   "outputs": [
    {
     "name": "stdout",
     "output_type": "stream",
     "text": [
      "(3822,)\n",
      "(3822,)\n",
      "(3828,)\n",
      "(3846,)\n",
      "(3769,)\n"
     ]
    }
   ],
   "source": [
    "#Open all the spectra files and store them in a list\n",
    "spectra_list=[]\n",
    "for spec_files in spectra_paths:\n",
    "    with fits.open(spec_files) as f:\n",
    "        spec=f[1].data\n",
    "        header=f[0].header\n",
    "    spectra_list.append(spec)\n",
    "\n",
    "#Get the shapes of each spectra then find the smallest shape along 0 axis\n",
    "spec_shape_list=[]\n",
    "for i in spectra_list:\n",
    "    print(i.shape)\n",
    "    spec_shape_list.append(i.shape)\n",
    "\n",
    "spec_shape_list=np.array(spec_shape_list)\n",
    "smallest_spec=np.min(spec_shape_list)"
   ]
  },
  {
   "cell_type": "code",
   "execution_count": null,
   "id": "d281516e-fcc0-4ae7-beba-b70cdbe808fa",
   "metadata": {},
   "outputs": [],
   "source": []
  },
  {
   "cell_type": "code",
   "execution_count": null,
   "id": "822cc349-165f-4066-8580-954321dbd6f6",
   "metadata": {},
   "outputs": [],
   "source": []
  },
  {
   "cell_type": "code",
   "execution_count": null,
   "id": "6d8d9eda-39a2-4008-9759-b86df0e65983",
   "metadata": {},
   "outputs": [],
   "source": []
  },
  {
   "cell_type": "code",
   "execution_count": null,
   "id": "6398edef-9e0d-488d-b0e1-89422b53d83e",
   "metadata": {},
   "outputs": [],
   "source": []
  },
  {
   "cell_type": "code",
   "execution_count": 121,
   "id": "400e87fa-a8b4-45d9-b0ed-3b36b6c49545",
   "metadata": {},
   "outputs": [],
   "source": []
  },
  {
   "cell_type": "code",
   "execution_count": null,
   "id": "f7d0d920-467f-4130-ae33-f9977615d211",
   "metadata": {},
   "outputs": [],
   "source": [
    "#3.582\n",
    "#3.957"
   ]
  },
  {
   "cell_type": "code",
   "execution_count": 137,
   "id": "f550dbee-1536-4a1b-8414-eaea4461ba4d",
   "metadata": {},
   "outputs": [
    {
     "data": {
      "text/plain": [
       "(5, 3751)"
      ]
     },
     "execution_count": 137,
     "metadata": {},
     "output_type": "execute_result"
    }
   ],
   "source": [
    "#Performing filtering of the spectra along lambda axis as data is not recording properly from first lambda\n",
    "#to last lambda, as in some spectra the measurements start from different first to different last lambda\n",
    "spectra_filtered_list=[]\n",
    "for i in spectra_list:\n",
    "    spec=i\n",
    "    #apply booleam mask along lambda axis from 3.562 to 3.957 lambdas\n",
    "    mask = (spec.loglam >= 3.582) & (spec.loglam <= 3.957)\n",
    "    filtered_data = spec[mask]\n",
    "    spectra_filtered_list.append(filtered_data)\n",
    "#And here we have a np array containing individual spectras\n",
    "spectra_filtered_list=np.array(spectra_filtered_list)\n",
    "spectra_filtered_list.shape"
   ]
  },
  {
   "cell_type": "code",
   "execution_count": 140,
   "id": "52264f50-7b5a-4eaf-92f9-c4515d48bb05",
   "metadata": {},
   "outputs": [
    {
     "data": {
      "text/plain": [
       "array([[3.582 , 3.5821, 3.5822, ..., 3.9568, 3.9569, 3.957 ],\n",
       "       [3.582 , 3.5821, 3.5822, ..., 3.9568, 3.9569, 3.957 ],\n",
       "       [3.582 , 3.5821, 3.5822, ..., 3.9568, 3.9569, 3.957 ],\n",
       "       [3.582 , 3.5821, 3.5822, ..., 3.9568, 3.9569, 3.957 ],\n",
       "       [3.582 , 3.5821, 3.5822, ..., 3.9568, 3.9569, 3.957 ]],\n",
       "      dtype=float32)"
      ]
     },
     "execution_count": 140,
     "metadata": {},
     "output_type": "execute_result"
    }
   ],
   "source": [
    "spectra_filtered_list['loglam']"
   ]
  },
  {
   "cell_type": "code",
   "execution_count": null,
   "id": "dbeb7bdc-c24b-41a7-a451-4d7ba4493df2",
   "metadata": {},
   "outputs": [],
   "source": []
  },
  {
   "cell_type": "code",
   "execution_count": 154,
   "id": "14e62642-12be-4263-ae34-ce3fc945dded",
   "metadata": {},
   "outputs": [],
   "source": [
    "#convert the log lam and flux to proper units \n",
    "lamb=10**spectra_filtered_list['loglam'] * u.AA\n",
    "flux = spectra_filtered_list['flux'] * 10**-17 * u.Unit('erg cm-2 s-1 AA-1') \n",
    "#put the lamb and flux to the 1d specutils object\n",
    "spectra_converted_flux_lamb_object_list=[]\n",
    "#performing loop to make a specutils object list\n",
    "for i,j in zip(lamb, flux):\n",
    "    spectrum=Spectrum1D(spectral_axis=i, flux=j)\n",
    "    spectra_converted_flux_lamb_object_list.append(spectrum)\n",
    "\n",
    "spectra_converted_flux_lamb_object_list=np.array(spectra_converted_flux_lamb)  \n"
   ]
  },
  {
   "cell_type": "code",
   "execution_count": 156,
   "id": "7e782611-2a9c-4ed8-9394-04627eb57a8a",
   "metadata": {},
   "outputs": [],
   "source": [
    "#Here extract array of fluxes and lambdas of individual spectra before adding oh noise\n",
    "spectra_object_lamb=[]\n",
    "spectra_object_flux=[]\n",
    "for i in spectra_converted_flux_lamb_object_list:\n",
    "    spectra_object_flux.append(np.array(i.flux))\n",
    "    spectra_object_lamb.append(np.array(i.spectral_axis))\n",
    "    "
   ]
  },
  {
   "cell_type": "code",
   "execution_count": null,
   "id": "5ba45998-8f65-4504-be57-c9647b90e1a2",
   "metadata": {
    "scrolled": true
   },
   "outputs": [],
   "source": []
  },
  {
   "cell_type": "code",
   "execution_count": 164,
   "id": "d9aaffdc-47ef-49fc-a6e6-4cd800051c3e",
   "metadata": {
    "scrolled": true
   },
   "outputs": [],
   "source": [
    "#Generate dummy OH lines which are bright\n",
    "oh_lines_wavelenght=np.array([5500, 5890, 6300, 6364, 6863, 7276 , 7500, 7800, \n",
    "                             7900, 8000, 8100, 8200, 8300, 8400])\n",
    "oh_flux= np.array([100*10**-16, 100*10**-16, 100*10**-16, 100*10**-16, 100*10**-16, 100*10**-16,\n",
    "                100*10**-16, 100*10**-16, 100*10**-16, 100*10**-16, 100*10**-16, 100*10**-16,\n",
    "                   100*10**-16, 100*10**-16  ])\n",
    "\n",
    "#Define a gaussian profile for each line\n",
    "def gaussian_line(spec_wavelenght, oh_intensity, oh_center, width=2.0):\n",
    "    return oh_intensity*np.exp(-0.5*((spec_wavelenght - oh_center)/width)**2)"
   ]
  },
  {
   "cell_type": "code",
   "execution_count": 173,
   "id": "ceac4a95-065c-437c-babd-e270bc78826b",
   "metadata": {
    "scrolled": true
   },
   "outputs": [],
   "source": [
    "#Loop over all oh lines\n",
    "for center, intensity in zip(oh_lines_wavelenght, oh_flux):\n",
    "    #Loop over all the individual spectra\n",
    "    for i in range(spectra_converted_flux_lamb_object_list.shape[0]):\n",
    "        #spectra_converted_flux_lamb_object_list.shape[0] this just tells number of spectras to loop over\n",
    "        #Add OH lines to galaxy spectra\n",
    "        spectra_object_flux[i]+=gaussian_line(spectra_object_lamb[i], intensity, center)\n",
    "    "
   ]
  },
  {
   "cell_type": "code",
   "execution_count": 188,
   "id": "ac691f82-2b6e-4998-8904-08a982ac01af",
   "metadata": {},
   "outputs": [
    {
     "data": {
      "text/plain": [
       "<matplotlib.collections.QuadMesh at 0x7c3d497f4e00>"
      ]
     },
     "execution_count": 188,
     "metadata": {},
     "output_type": "execute_result"
    },
    {
     "data": {
      "image/png": "[encoded data removed]",
      "text/plain": [
       "<Figure size 2000x700 with 5 Axes>"
      ]
     },
     "metadata": {},
     "output_type": "display_data"
    }
   ],
   "source": [
    "fig,ax=plt.subplots(nrows=5, ncols=1, figsize=(20,7))\n",
    "ax[0].pcolormesh( spectra_object_flux[0][:,None].T)\n",
    "ax[1].pcolormesh( spectra_object_flux[1][:,None].T)\n",
    "ax[2].pcolormesh( spectra_object_flux[2][:,None].T)\n",
    "ax[3].pcolormesh( spectra_object_flux[3][:,None].T)\n",
    "ax[4].pcolormesh( spectra_object_flux[4][:,None].T)\n"
   ]
  },
  {
   "cell_type": "code",
   "execution_count": 189,
   "id": "16ea4cd1-2d0f-431d-8128-ae12ad47a516",
   "metadata": {},
   "outputs": [],
   "source": [
    "#Save the array of oh lines infected spectras to numpy file\n",
    "np.save('multiple_spectra_with_oh_lines.npy',spectra_object_flux)"
   ]
  },
  {
   "cell_type": "code",
   "execution_count": null,
   "id": "930cbb7c-3b35-46ca-b982-0da7ab1a0a4f",
   "metadata": {},
   "outputs": [],
   "source": []
  }
 ],
 "metadata": {
  "kernelspec": {
   "display_name": "Python 3 (ipykernel)",
   "language": "python",
   "name": "python3"
  },
  "language_info": {
   "codemirror_mode": {
    "name": "ipython",
    "version": 3
   },
   "file_extension": ".py",
   "mimetype": "text/x-python",
   "name": "python",
   "nbconvert_exporter": "python",
   "pygments_lexer": "ipython3",
   "version": "3.12.3"
  }
 },
 "nbformat": 4,
 "nbformat_minor": 5
}
