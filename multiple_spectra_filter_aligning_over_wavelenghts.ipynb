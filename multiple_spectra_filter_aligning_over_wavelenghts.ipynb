{
 "cells": [
  {
   "cell_type": "code",
   "execution_count": 1,
   "id": "55ec2245-b877-465d-ab28-70f5fcab1007",
   "metadata": {},
   "outputs": [],
   "source": [
    "import numpy as np\n",
    "import matplotlib.pyplot as plt\n",
    "from astropy.io import fits\n",
    "from astropy import units as u\n",
    "from specutils import Spectrum1D\n",
    "import glob\n",
    "from matplotlib.colors import Normalize, LinearSegmentedColormap\n"
   ]
  },
  {
   "cell_type": "code",
   "execution_count": 2,
   "id": "3763dba5-c5c5-4574-831a-85a26950d302",
   "metadata": {},
   "outputs": [],
   "source": [
    "#Glob all the spectra files\n",
    "spectra_dir=\"/home/kevin/aufklarung_astro_station/sdss_spectra/\"\n",
    "spectra_paths=glob.glob(spectra_dir+\"*.fits\")"
   ]
  },
  {
   "cell_type": "code",
   "execution_count": 4,
   "id": "0a05ba00-f2ce-4d76-a4bc-4b6d03389880",
   "metadata": {},
   "outputs": [
    {
     "name": "stdout",
     "output_type": "stream",
     "text": [
      "(3822,)\n",
      "(3822,)\n",
      "(3828,)\n",
      "(3846,)\n",
      "(3769,)\n"
     ]
    }
   ],
   "source": [
    "#Open all the spectra files and store them in a list\n",
    "spectra_list=[]\n",
    "for spec_files in spectra_paths:\n",
    "    with fits.open(spec_files) as f:\n",
    "        spec=f[1].data\n",
    "        header=f[0].header\n",
    "    spectra_list.append(spec)\n",
    "\n",
    "#Get the shapes of each spectra then find the smallest shape along 0 axis\n",
    "spec_shape_list=[]\n",
    "for i in spectra_list:\n",
    "    print(i.shape)\n",
    "    spec_shape_list.append(i.shape)\n",
    "\n",
    "spec_shape_list=np.array(spec_shape_list)\n",
    "smallest_spec=np.min(spec_shape_list)"
   ]
  },
  {
   "cell_type": "code",
   "execution_count": 3,
   "id": "e01a70ec-b037-418d-90d8-e4f6b791a1d6",
   "metadata": {},
   "outputs": [],
   "source": [
    "#upper and lower limits of wavelenghts to be used\n",
    "#3.582\n",
    "#3.957"
   ]
  },
  {
   "cell_type": "code",
   "execution_count": 5,
   "id": "4bb075f8-8bc3-477c-af9e-a36e7eb46176",
   "metadata": {},
   "outputs": [
    {
     "data": {
      "text/plain": [
       "(5, 3751)"
      ]
     },
     "execution_count": 5,
     "metadata": {},
     "output_type": "execute_result"
    }
   ],
   "source": [
    "#Performing filtering of the spectra along lambda axis as data is not recording properly from first lambda\n",
    "#to last lambda, as in some spectra the measurements start from different first to different last lambda\n",
    "spectra_filtered_list=[]\n",
    "for i in spectra_list:\n",
    "    spec=i\n",
    "    #apply booleam mask along lambda axis from 3.562 to 3.957 lambdas\n",
    "    mask = (spec.loglam >= 3.582) & (spec.loglam <= 3.957)\n",
    "    filtered_data = spec[mask]\n",
    "    spectra_filtered_list.append(filtered_data)\n",
    "#And here we have a np array containing individual spectras\n",
    "spectra_filtered_list=np.array(spectra_filtered_list)\n",
    "spectra_filtered_list.shape"
   ]
  }
 ],
 "metadata": {
  "kernelspec": {
   "display_name": "Python 3 (ipykernel)",
   "language": "python",
   "name": "python3"
  },
  "language_info": {
   "codemirror_mode": {
    "name": "ipython",
    "version": 3
   },
   "file_extension": ".py",
   "mimetype": "text/x-python",
   "name": "python",
   "nbconvert_exporter": "python",
   "pygments_lexer": "ipython3",
   "version": "3.12.3"
  }
 },
 "nbformat": 4,
 "nbformat_minor": 5
}
